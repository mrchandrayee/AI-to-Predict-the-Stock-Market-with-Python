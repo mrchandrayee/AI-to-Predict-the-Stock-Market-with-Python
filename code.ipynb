{
 "cells": [
  {
   "cell_type": "code",
   "execution_count": 1,
   "metadata": {},
   "outputs": [],
   "source": [
    "#import the libraries\n",
    "import numpy as np\n",
    "import pandas as pd\n",
    "import xgboost as xgb\n",
    "import matplotlib.pyplot as plt\n"
   ]
  },
  {
   "cell_type": "code",
   "execution_count": 2,
   "metadata": {},
   "outputs": [
    {
     "data": {
      "text/html": [
       "<div>\n",
       "<style scoped>\n",
       "    .dataframe tbody tr th:only-of-type {\n",
       "        vertical-align: middle;\n",
       "    }\n",
       "\n",
       "    .dataframe tbody tr th {\n",
       "        vertical-align: top;\n",
       "    }\n",
       "\n",
       "    .dataframe thead th {\n",
       "        text-align: right;\n",
       "    }\n",
       "</style>\n",
       "<table border=\"1\" class=\"dataframe\">\n",
       "  <thead>\n",
       "    <tr style=\"text-align: right;\">\n",
       "      <th></th>\n",
       "      <th>Date</th>\n",
       "      <th>Close/Last</th>\n",
       "      <th>Volume</th>\n",
       "      <th>Open</th>\n",
       "      <th>High</th>\n",
       "      <th>Low</th>\n",
       "    </tr>\n",
       "  </thead>\n",
       "  <tbody>\n",
       "    <tr>\n",
       "      <th>0</th>\n",
       "      <td>03/15/2024</td>\n",
       "      <td>509.83</td>\n",
       "      <td>107646300</td>\n",
       "      <td>510.21</td>\n",
       "      <td>511.7000</td>\n",
       "      <td>508.1220</td>\n",
       "    </tr>\n",
       "    <tr>\n",
       "      <th>1</th>\n",
       "      <td>03/14/2024</td>\n",
       "      <td>514.95</td>\n",
       "      <td>110171800</td>\n",
       "      <td>516.97</td>\n",
       "      <td>517.1250</td>\n",
       "      <td>511.8200</td>\n",
       "    </tr>\n",
       "    <tr>\n",
       "      <th>2</th>\n",
       "      <td>03/13/2024</td>\n",
       "      <td>515.97</td>\n",
       "      <td>55104090</td>\n",
       "      <td>517.11</td>\n",
       "      <td>517.2900</td>\n",
       "      <td>514.4900</td>\n",
       "    </tr>\n",
       "    <tr>\n",
       "      <th>3</th>\n",
       "      <td>03/12/2024</td>\n",
       "      <td>516.78</td>\n",
       "      <td>73114440</td>\n",
       "      <td>513.45</td>\n",
       "      <td>517.3800</td>\n",
       "      <td>510.8600</td>\n",
       "    </tr>\n",
       "    <tr>\n",
       "      <th>4</th>\n",
       "      <td>03/11/2024</td>\n",
       "      <td>511.28</td>\n",
       "      <td>62557180</td>\n",
       "      <td>510.48</td>\n",
       "      <td>511.8800</td>\n",
       "      <td>508.5000</td>\n",
       "    </tr>\n",
       "    <tr>\n",
       "      <th>5</th>\n",
       "      <td>03/08/2024</td>\n",
       "      <td>511.72</td>\n",
       "      <td>86532540</td>\n",
       "      <td>515.46</td>\n",
       "      <td>518.2201</td>\n",
       "      <td>511.1300</td>\n",
       "    </tr>\n",
       "    <tr>\n",
       "      <th>6</th>\n",
       "      <td>03/07/2024</td>\n",
       "      <td>514.81</td>\n",
       "      <td>58652090</td>\n",
       "      <td>513.14</td>\n",
       "      <td>515.8900</td>\n",
       "      <td>509.8053</td>\n",
       "    </tr>\n",
       "    <tr>\n",
       "      <th>7</th>\n",
       "      <td>03/06/2024</td>\n",
       "      <td>509.75</td>\n",
       "      <td>68382370</td>\n",
       "      <td>510.55</td>\n",
       "      <td>512.0690</td>\n",
       "      <td>508.4200</td>\n",
       "    </tr>\n",
       "    <tr>\n",
       "      <th>8</th>\n",
       "      <td>03/05/2024</td>\n",
       "      <td>507.18</td>\n",
       "      <td>72855620</td>\n",
       "      <td>510.24</td>\n",
       "      <td>510.7000</td>\n",
       "      <td>504.9100</td>\n",
       "    </tr>\n",
       "    <tr>\n",
       "      <th>9</th>\n",
       "      <td>03/04/2024</td>\n",
       "      <td>512.30</td>\n",
       "      <td>49799260</td>\n",
       "      <td>512.03</td>\n",
       "      <td>514.2000</td>\n",
       "      <td>512.0000</td>\n",
       "    </tr>\n",
       "    <tr>\n",
       "      <th>10</th>\n",
       "      <td>03/01/2024</td>\n",
       "      <td>512.85</td>\n",
       "      <td>76844840</td>\n",
       "      <td>508.98</td>\n",
       "      <td>513.2900</td>\n",
       "      <td>508.5600</td>\n",
       "    </tr>\n",
       "    <tr>\n",
       "      <th>11</th>\n",
       "      <td>02/29/2024</td>\n",
       "      <td>508.08</td>\n",
       "      <td>83924800</td>\n",
       "      <td>508.07</td>\n",
       "      <td>509.7400</td>\n",
       "      <td>505.3500</td>\n",
       "    </tr>\n",
       "    <tr>\n",
       "      <th>12</th>\n",
       "      <td>02/28/2024</td>\n",
       "      <td>506.26</td>\n",
       "      <td>56506630</td>\n",
       "      <td>505.33</td>\n",
       "      <td>506.8550</td>\n",
       "      <td>504.9600</td>\n",
       "    </tr>\n",
       "    <tr>\n",
       "      <th>13</th>\n",
       "      <td>02/27/2024</td>\n",
       "      <td>506.93</td>\n",
       "      <td>48854530</td>\n",
       "      <td>506.70</td>\n",
       "      <td>507.1600</td>\n",
       "      <td>504.7500</td>\n",
       "    </tr>\n",
       "    <tr>\n",
       "      <th>14</th>\n",
       "      <td>02/26/2024</td>\n",
       "      <td>505.99</td>\n",
       "      <td>50386740</td>\n",
       "      <td>508.30</td>\n",
       "      <td>508.7500</td>\n",
       "      <td>505.8600</td>\n",
       "    </tr>\n",
       "    <tr>\n",
       "      <th>15</th>\n",
       "      <td>02/23/2024</td>\n",
       "      <td>507.85</td>\n",
       "      <td>61321820</td>\n",
       "      <td>509.27</td>\n",
       "      <td>510.1300</td>\n",
       "      <td>507.1000</td>\n",
       "    </tr>\n",
       "    <tr>\n",
       "      <th>16</th>\n",
       "      <td>02/22/2024</td>\n",
       "      <td>507.50</td>\n",
       "      <td>76402540</td>\n",
       "      <td>504.01</td>\n",
       "      <td>508.4900</td>\n",
       "      <td>503.0200</td>\n",
       "    </tr>\n",
       "    <tr>\n",
       "      <th>17</th>\n",
       "      <td>02/21/2024</td>\n",
       "      <td>497.21</td>\n",
       "      <td>59603770</td>\n",
       "      <td>495.42</td>\n",
       "      <td>497.3700</td>\n",
       "      <td>493.5600</td>\n",
       "    </tr>\n",
       "    <tr>\n",
       "      <th>18</th>\n",
       "      <td>02/20/2024</td>\n",
       "      <td>496.76</td>\n",
       "      <td>71736740</td>\n",
       "      <td>497.72</td>\n",
       "      <td>498.4100</td>\n",
       "      <td>494.4500</td>\n",
       "    </tr>\n",
       "  </tbody>\n",
       "</table>\n",
       "</div>"
      ],
      "text/plain": [
       "          Date  Close/Last     Volume    Open      High       Low\n",
       "0   03/15/2024      509.83  107646300  510.21  511.7000  508.1220\n",
       "1   03/14/2024      514.95  110171800  516.97  517.1250  511.8200\n",
       "2   03/13/2024      515.97   55104090  517.11  517.2900  514.4900\n",
       "3   03/12/2024      516.78   73114440  513.45  517.3800  510.8600\n",
       "4   03/11/2024      511.28   62557180  510.48  511.8800  508.5000\n",
       "5   03/08/2024      511.72   86532540  515.46  518.2201  511.1300\n",
       "6   03/07/2024      514.81   58652090  513.14  515.8900  509.8053\n",
       "7   03/06/2024      509.75   68382370  510.55  512.0690  508.4200\n",
       "8   03/05/2024      507.18   72855620  510.24  510.7000  504.9100\n",
       "9   03/04/2024      512.30   49799260  512.03  514.2000  512.0000\n",
       "10  03/01/2024      512.85   76844840  508.98  513.2900  508.5600\n",
       "11  02/29/2024      508.08   83924800  508.07  509.7400  505.3500\n",
       "12  02/28/2024      506.26   56506630  505.33  506.8550  504.9600\n",
       "13  02/27/2024      506.93   48854530  506.70  507.1600  504.7500\n",
       "14  02/26/2024      505.99   50386740  508.30  508.7500  505.8600\n",
       "15  02/23/2024      507.85   61321820  509.27  510.1300  507.1000\n",
       "16  02/22/2024      507.50   76402540  504.01  508.4900  503.0200\n",
       "17  02/21/2024      497.21   59603770  495.42  497.3700  493.5600\n",
       "18  02/20/2024      496.76   71736740  497.72  498.4100  494.4500"
      ]
     },
     "execution_count": 2,
     "metadata": {},
     "output_type": "execute_result"
    }
   ],
   "source": [
    "#Load the data Spy\n",
    "data = pd.read_csv('spy1.csv')\n",
    "#show data\n",
    "data"
   ]
  },
  {
   "cell_type": "code",
   "execution_count": 3,
   "metadata": {},
   "outputs": [
    {
     "data": {
      "text/plain": [
       "<Axes: >"
      ]
     },
     "execution_count": 3,
     "metadata": {},
     "output_type": "execute_result"
    },
    {
     "data": {
      "image/png": "[encoded data removed]",
      "text/plain": [
       "<Figure size 640x480 with 1 Axes>"
      ]
     },
     "metadata": {},
     "output_type": "display_data"
    }
   ],
   "source": [
    "#show the data visually\n",
    "data['Close/Last'].plot()"
   ]
  },
  {
   "cell_type": "code",
   "execution_count": 4,
   "metadata": {},
   "outputs": [],
   "source": [
    "#spliot the data into training and testing data sets\n",
    "train_data = data.iloc[:int(.99*len(data)), :]\n",
    "test_data = data.iloc[:int(.99*len(data)):, :]"
   ]
  },
  {
   "cell_type": "code",
   "execution_count": 5,
   "metadata": {},
   "outputs": [],
   "source": [
    "#Define the features and taget variable\n",
    "features = ['open',['volume']]\n",
    "target = 'close'\n"
   ]
  },
  {
   "cell_type": "code",
   "execution_count": 14,
   "metadata": {},
   "outputs": [
    {
     "data": {
      "text/html": [
       "<style>#sk-container-id-1 {color: black;}#sk-container-id-1 pre{padding: 0;}#sk-container-id-1 div.sk-toggleable {background-color: white;}#sk-container-id-1 label.sk-toggleable__label {cursor: pointer;display: block;width: 100%;margin-bottom: 0;padding: 0.3em;box-sizing: border-box;text-align: center;}#sk-container-id-1 label.sk-toggleable__label-arrow:before {content: \"▸\";float: left;margin-right: 0.25em;color: #696969;}#sk-container-id-1 label.sk-toggleable__label-arrow:hover:before {color: black;}#sk-container-id-1 div.sk-estimator:hover label.sk-toggleable__label-arrow:before {color: black;}#sk-container-id-1 div.sk-toggleable__content {max-height: 0;max-width: 0;overflow: hidden;text-align: left;background-color: #f0f8ff;}#sk-container-id-1 div.sk-toggleable__content pre {margin: 0.2em;color: black;border-radius: 0.25em;background-color: #f0f8ff;}#sk-container-id-1 input.sk-toggleable__control:checked~div.sk-toggleable__content {max-height: 200px;max-width: 100%;overflow: auto;}#sk-container-id-1 input.sk-toggleable__control:checked~label.sk-toggleable__label-arrow:before {content: \"▾\";}#sk-container-id-1 div.sk-estimator input.sk-toggleable__control:checked~label.sk-toggleable__label {background-color: #d4ebff;}#sk-container-id-1 div.sk-label input.sk-toggleable__control:checked~label.sk-toggleable__label {background-color: #d4ebff;}#sk-container-id-1 input.sk-hidden--visually {border: 0;clip: rect(1px 1px 1px 1px);clip: rect(1px, 1px, 1px, 1px);height: 1px;margin: -1px;overflow: hidden;padding: 0;position: absolute;width: 1px;}#sk-container-id-1 div.sk-estimator {font-family: monospace;background-color: #f0f8ff;border: 1px dotted black;border-radius: 0.25em;box-sizing: border-box;margin-bottom: 0.5em;}#sk-container-id-1 div.sk-estimator:hover {background-color: #d4ebff;}#sk-container-id-1 div.sk-parallel-item::after {content: \"\";width: 100%;border-bottom: 1px solid gray;flex-grow: 1;}#sk-container-id-1 div.sk-label:hover label.sk-toggleable__label {background-color: #d4ebff;}#sk-container-id-1 div.sk-serial::before {content: \"\";position: absolute;border-left: 1px solid gray;box-sizing: border-box;top: 0;bottom: 0;left: 50%;z-index: 0;}#sk-container-id-1 div.sk-serial {display: flex;flex-direction: column;align-items: center;background-color: white;padding-right: 0.2em;padding-left: 0.2em;position: relative;}#sk-container-id-1 div.sk-item {position: relative;z-index: 1;}#sk-container-id-1 div.sk-parallel {display: flex;align-items: stretch;justify-content: center;background-color: white;position: relative;}#sk-container-id-1 div.sk-item::before, #sk-container-id-1 div.sk-parallel-item::before {content: \"\";position: absolute;border-left: 1px solid gray;box-sizing: border-box;top: 0;bottom: 0;left: 50%;z-index: -1;}#sk-container-id-1 div.sk-parallel-item {display: flex;flex-direction: column;z-index: 1;position: relative;background-color: white;}#sk-container-id-1 div.sk-parallel-item:first-child::after {align-self: flex-end;width: 50%;}#sk-container-id-1 div.sk-parallel-item:last-child::after {align-self: flex-start;width: 50%;}#sk-container-id-1 div.sk-parallel-item:only-child::after {width: 0;}#sk-container-id-1 div.sk-dashed-wrapped {border: 1px dashed gray;margin: 0 0.4em 0.5em 0.4em;box-sizing: border-box;padding-bottom: 0.4em;background-color: white;}#sk-container-id-1 div.sk-label label {font-family: monospace;font-weight: bold;display: inline-block;line-height: 1.2em;}#sk-container-id-1 div.sk-label-container {text-align: center;}#sk-container-id-1 div.sk-container {/* jupyter's `normalize.less` sets `[hidden] { display: none; }` but bootstrap.min.css set `[hidden] { display: none !important; }` so we also need the `!important` here to be able to override the default hidden behavior on the sphinx rendered scikit-learn.org. See: https://github.com/scikit-learn/scikit-learn/issues/21755 */display: inline-block !important;position: relative;}#sk-container-id-1 div.sk-text-repr-fallback {display: none;}</style><div id=\"sk-container-id-1\" class=\"sk-top-container\"><div class=\"sk-text-repr-fallback\"><pre>XGBRegressor(base_score=None, booster=None, callbacks=None,\n",
       "             colsample_bylevel=None, colsample_bynode=None,\n",
       "             colsample_bytree=None, device=None, early_stopping_rounds=None,\n",
       "             enable_categorical=False, eval_metric=None, feature_types=None,\n",
       "             gamma=None, grow_policy=None, importance_type=None,\n",
       "             interaction_constraints=None, learning_rate=None, max_bin=None,\n",
       "             max_cat_threshold=None, max_cat_to_onehot=None,\n",
       "             max_delta_step=None, max_depth=None, max_leaves=None,\n",
       "             min_child_weight=None, missing=nan, monotone_constraints=None,\n",
       "             multi_strategy=None, n_estimators=None, n_jobs=None,\n",
       "             num_parallel_tree=None, random_state=None, ...)</pre><b>In a Jupyter environment, please rerun this cell to show the HTML representation or trust the notebook. <br />On GitHub, the HTML representation is unable to render, please try loading this page with nbviewer.org.</b></div><div class=\"sk-container\" hidden><div class=\"sk-item\"><div class=\"sk-estimator sk-toggleable\"><input class=\"sk-toggleable__control sk-hidden--visually\" id=\"sk-estimator-id-1\" type=\"checkbox\" checked><label for=\"sk-estimator-id-1\" class=\"sk-toggleable__label sk-toggleable__label-arrow\">XGBRegressor</label><div class=\"sk-toggleable__content\"><pre>XGBRegressor(base_score=None, booster=None, callbacks=None,\n",
       "             colsample_bylevel=None, colsample_bynode=None,\n",
       "             colsample_bytree=None, device=None, early_stopping_rounds=None,\n",
       "             enable_categorical=False, eval_metric=None, feature_types=None,\n",
       "             gamma=None, grow_policy=None, importance_type=None,\n",
       "             interaction_constraints=None, learning_rate=None, max_bin=None,\n",
       "             max_cat_threshold=None, max_cat_to_onehot=None,\n",
       "             max_delta_step=None, max_depth=None, max_leaves=None,\n",
       "             min_child_weight=None, missing=nan, monotone_constraints=None,\n",
       "             multi_strategy=None, n_estimators=None, n_jobs=None,\n",
       "             num_parallel_tree=None, random_state=None, ...)</pre></div></div></div></div></div>"
      ],
      "text/plain": [
       "XGBRegressor(base_score=None, booster=None, callbacks=None,\n",
       "             colsample_bylevel=None, colsample_bynode=None,\n",
       "             colsample_bytree=None, device=None, early_stopping_rounds=None,\n",
       "             enable_categorical=False, eval_metric=None, feature_types=None,\n",
       "             gamma=None, grow_policy=None, importance_type=None,\n",
       "             interaction_constraints=None, learning_rate=None, max_bin=None,\n",
       "             max_cat_threshold=None, max_cat_to_onehot=None,\n",
       "             max_delta_step=None, max_depth=None, max_leaves=None,\n",
       "             min_child_weight=None, missing=nan, monotone_constraints=None,\n",
       "             multi_strategy=None, n_estimators=None, n_jobs=None,\n",
       "             num_parallel_tree=None, random_state=None, ...)"
      ]
     },
     "execution_count": 14,
     "metadata": {},
     "output_type": "execute_result"
    }
   ],
   "source": [
    "features = ['Open', 'High', 'Low', 'Volume']  # List of feature column names\n",
    "target = 'Close/Last'  # Target column name\n",
    "model.fit(train_data[features], train_data[target])"
   ]
  },
  {
   "cell_type": "code",
   "execution_count": 15,
   "metadata": {},
   "outputs": [
    {
     "name": "stdout",
     "output_type": "stream",
     "text": [
      "Model Predicition :\n",
      "[509.8301  514.95013 515.96967 516.7785  511.2799  511.7203  514.8105\n",
      " 509.74994 507.18015 512.2997  512.8497  508.0799  506.25964 506.92972\n",
      " 505.9915  507.8499  507.49982 497.21124]\n"
     ]
    }
   ],
   "source": [
    "#Make and show the prediction \n",
    "predictions = model.predict(test_data[features])\n",
    "print('Model Predicition :')\n",
    "print(predictions)"
   ]
  },
  {
   "cell_type": "code",
   "execution_count": 16,
   "metadata": {},
   "outputs": [
    {
     "name": "stdout",
     "output_type": "stream",
     "text": [
      "Actual Values:\n",
      "0     509.83\n",
      "1     514.95\n",
      "2     515.97\n",
      "3     516.78\n",
      "4     511.28\n",
      "5     511.72\n",
      "6     514.81\n",
      "7     509.75\n",
      "8     507.18\n",
      "9     512.30\n",
      "10    512.85\n",
      "11    508.08\n",
      "12    506.26\n",
      "13    506.93\n",
      "14    505.99\n",
      "15    507.85\n",
      "16    507.50\n",
      "17    497.21\n",
      "Name: Close/Last, dtype: float64\n"
     ]
    }
   ],
   "source": [
    "#show the actual values\n",
    "print('Actual Values:')\n",
    "print(test_data[target])"
   ]
  },
  {
   "cell_type": "code",
   "execution_count": 18,
   "metadata": {},
   "outputs": [
    {
     "name": "stdout",
     "output_type": "stream",
     "text": [
      "Accuracy:\n",
      "0.9999999813058197\n"
     ]
    }
   ],
   "source": [
    "# Assuming 'test_data' is your testing dataset\n",
    "# and 'features', 'target' are lists of your feature and target column names.\n",
    "\n",
    "# Calculate the accuracy of the model\n",
    "accuracy = model.score(test_data[features], test_data[target])\n",
    "print('Accuracy:')\n",
    "print(accuracy)"
   ]
  },
  {
   "cell_type": "code",
   "execution_count": 20,
   "metadata": {},
   "outputs": [
    {
     "data": {
      "image/png": "[encoded data removed]",
      "text/plain": [
       "<Figure size 640x480 with 1 Axes>"
      ]
     },
     "metadata": {},
     "output_type": "display_data"
    }
   ],
   "source": [
    "import matplotlib.pyplot as plt\n",
    "\n",
    "# Assuming 'predictions' is a list or array containing your model's predictions.\n",
    "\n",
    "# Plot the actual close prices\n",
    "plt.plot(data['Close/Last'], label='Close Price')  # Corrected 'close' to 'Close/Last' and 'lable' to 'label'\n",
    "\n",
    "# Plot the predictions\n",
    "# Make sure 'predictions' is the same length as 'test_data[target]'\n",
    "# and that it's indexed correctly to align with the dates in 'test_data'\n",
    "plt.plot(test_data[target].index, predictions, label='Predictions')  # Corrected 'label ='\n",
    "\n",
    "# Add a legend to the plot\n",
    "plt.legend()\n",
    "\n",
    "# Display the plot\n",
    "plt.show()"
   ]
  }
 ],
 "metadata": {
  "kernelspec": {
   "display_name": "base",
   "language": "python",
   "name": "python3"
  },
  "language_info": {
   "codemirror_mode": {
    "name": "ipython",
    "version": 3
   },
   "file_extension": ".py",
   "mimetype": "text/x-python",
   "name": "python",
   "nbconvert_exporter": "python",
   "pygments_lexer": "ipython3",
   "version": "3.11.5"
  }
 },
 "nbformat": 4,
 "nbformat_minor": 2
}
